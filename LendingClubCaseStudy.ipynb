{
 "cells": [
  {
   "cell_type": "markdown",
   "id": "39744c54",
   "metadata": {},
   "source": [
    "# LENDING CLUB CASE STYDY"
   ]
  },
  {
   "cell_type": "code",
   "execution_count": 54,
   "id": "6c4ce713",
   "metadata": {},
   "outputs": [],
   "source": [
    "import pandas as pd\n",
    "import matplotlib.pyplot as plt\n",
    "import seaborn as sns"
   ]
  },
  {
   "cell_type": "code",
   "execution_count": 55,
   "id": "29047e3e",
   "metadata": {},
   "outputs": [
    {
     "name": "stderr",
     "output_type": "stream",
     "text": [
      "C:\\Users\\sai\\anaconda3\\lib\\site-packages\\IPython\\core\\interactiveshell.py:3165: DtypeWarning: Columns (47) have mixed types.Specify dtype option on import or set low_memory=False.\n",
      "  has_raised = await self.run_ast_nodes(code_ast.body, cell_name,\n"
     ]
    }
   ],
   "source": [
    "#Reading csv to data frame\n",
    "loan_df=pd.read_csv(\"loan.csv\",dtype={\"last_pymnt_amnt\": float})"
   ]
  },
  {
   "cell_type": "code",
   "execution_count": 57,
   "id": "3aae2837",
   "metadata": {},
   "outputs": [
    {
     "data": {
      "text/plain": [
       "id                                0\n",
       "member_id                         0\n",
       "loan_amnt                         0\n",
       "funded_amnt                       0\n",
       "funded_amnt_inv                   0\n",
       "                              ...  \n",
       "tax_liens                        39\n",
       "tot_hi_cred_lim               39717\n",
       "total_bal_ex_mort             39717\n",
       "total_bc_limit                39717\n",
       "total_il_high_credit_limit    39717\n",
       "Length: 111, dtype: int64"
      ]
     },
     "execution_count": 57,
     "metadata": {},
     "output_type": "execute_result"
    }
   ],
   "source": [
    "#Checking for nulls in columns\n",
    "loan_df.isna().sum()"
   ]
  },
  {
   "cell_type": "markdown",
   "id": "fa8b5418",
   "metadata": {},
   "source": [
    "# Filtering Data"
   ]
  },
  {
   "cell_type": "code",
   "execution_count": 58,
   "id": "37832d27",
   "metadata": {},
   "outputs": [],
   "source": [
    "#Removing people with loan status as current\n",
    "loan_df=loan_df[loan_df.loan_status !=\"Current\"]"
   ]
  },
  {
   "cell_type": "markdown",
   "id": "f2e5abe1",
   "metadata": {},
   "source": [
    "# Handling Null/Missing values"
   ]
  },
  {
   "cell_type": "code",
   "execution_count": 59,
   "id": "94cf8563",
   "metadata": {},
   "outputs": [],
   "source": [
    "#Dropping all columns with 100% null values\n",
    "loan_df.dropna(how='all', axis=1, inplace=True)"
   ]
  },
  {
   "cell_type": "code",
   "execution_count": 60,
   "id": "d0d796cc",
   "metadata": {},
   "outputs": [
    {
     "name": "stdout",
     "output_type": "stream",
     "text": [
      "56\n"
     ]
    }
   ],
   "source": [
    "print(len(loan_df.columns))"
   ]
  },
  {
   "cell_type": "markdown",
   "id": "1816c9c2",
   "metadata": {},
   "source": [
    " Out of 111 columns 55 columns are null so removed them"
   ]
  },
  {
   "cell_type": "code",
   "execution_count": 61,
   "id": "c0adb7c1",
   "metadata": {},
   "outputs": [],
   "source": [
    "# Selecting columns based on business requirements\n",
    "loan_df1=loan_df[[\"loan_amnt\",\"funded_amnt\",\"funded_amnt_inv\",\"term\",\"int_rate\",\"installment\",\"grade\",\"sub_grade\",\"emp_length\",\"home_ownership\",\"annual_inc\",\"verification_status\",\"issue_d\",\"loan_status\",\"purpose\",\"title\",\"dti\",\"delinq_2yrs\",\"earliest_cr_line\",\"inq_last_6mths\",\"open_acc\",\"pub_rec\",\"revol_bal\",\"revol_util\",\"total_acc\",\"out_prncp\",\"total_pymnt\",\"total_rec_prncp\",\"total_rec_int\",\"total_rec_late_fee\",\"recoveries\",\"last_pymnt_d\",\"last_pymnt_amnt\",\"last_credit_pull_d\",\"pub_rec_bankruptcies\"]]"
   ]
  },
  {
   "cell_type": "code",
   "execution_count": 62,
   "id": "356b46bf",
   "metadata": {},
   "outputs": [
    {
     "name": "stdout",
     "output_type": "stream",
     "text": [
      "35\n"
     ]
    }
   ],
   "source": [
    "print(len(loan_df1.columns))"
   ]
  },
  {
   "cell_type": "markdown",
   "id": "8d6ab2ba",
   "metadata": {},
   "source": [
    " Now we are left with 35 columns"
   ]
  },
  {
   "cell_type": "code",
   "execution_count": 63,
   "id": "2ee596c7",
   "metadata": {
    "scrolled": true
   },
   "outputs": [
    {
     "name": "stderr",
     "output_type": "stream",
     "text": [
      "C:\\Users\\sai\\anaconda3\\lib\\site-packages\\pandas\\core\\generic.py:5494: SettingWithCopyWarning: \n",
      "A value is trying to be set on a copy of a slice from a DataFrame.\n",
      "Try using .loc[row_indexer,col_indexer] = value instead\n",
      "\n",
      "See the caveats in the documentation: https://pandas.pydata.org/pandas-docs/stable/user_guide/indexing.html#returning-a-view-versus-a-copy\n",
      "  self[name] = value\n"
     ]
    }
   ],
   "source": [
    "#Handling null values in emp_length by replacing nulls with mode of columns\n",
    "loan_df1.emp_length=loan_df1.emp_length.fillna(\"10+ years\")"
   ]
  },
  {
   "cell_type": "code",
   "execution_count": 64,
   "id": "6a7eb8a4",
   "metadata": {},
   "outputs": [
    {
     "data": {
      "text/plain": [
       "10+ years    9521\n",
       "< 1 year     4508\n",
       "2 years      4291\n",
       "3 years      4012\n",
       "4 years      3342\n",
       "5 years      3194\n",
       "1 year       3169\n",
       "6 years      2168\n",
       "7 years      1711\n",
       "8 years      1435\n",
       "9 years      1226\n",
       "Name: emp_length, dtype: int64"
      ]
     },
     "execution_count": 64,
     "metadata": {},
     "output_type": "execute_result"
    }
   ],
   "source": [
    "loan_df1.emp_length.value_counts()"
   ]
  },
  {
   "cell_type": "code",
   "execution_count": 65,
   "id": "a282f4c3",
   "metadata": {},
   "outputs": [
    {
     "data": {
      "text/plain": [
       "loan_amnt                 0\n",
       "funded_amnt               0\n",
       "funded_amnt_inv           0\n",
       "term                      0\n",
       "int_rate                  0\n",
       "installment               0\n",
       "grade                     0\n",
       "sub_grade                 0\n",
       "emp_length                0\n",
       "home_ownership            0\n",
       "annual_inc                0\n",
       "verification_status       0\n",
       "issue_d                   0\n",
       "loan_status               0\n",
       "purpose                   0\n",
       "title                    11\n",
       "dti                       0\n",
       "delinq_2yrs               0\n",
       "earliest_cr_line          0\n",
       "inq_last_6mths            0\n",
       "open_acc                  0\n",
       "pub_rec                   0\n",
       "revol_bal                 0\n",
       "revol_util               50\n",
       "total_acc                 0\n",
       "out_prncp                 0\n",
       "total_pymnt               0\n",
       "total_rec_prncp           0\n",
       "total_rec_int             0\n",
       "total_rec_late_fee        0\n",
       "recoveries                0\n",
       "last_pymnt_d             71\n",
       "last_pymnt_amnt           0\n",
       "last_credit_pull_d        2\n",
       "pub_rec_bankruptcies    697\n",
       "dtype: int64"
      ]
     },
     "execution_count": 65,
     "metadata": {},
     "output_type": "execute_result"
    }
   ],
   "source": [
    "loan_df1.isna().sum()"
   ]
  },
  {
   "cell_type": "code",
   "execution_count": 66,
   "id": "ff2d1fee",
   "metadata": {},
   "outputs": [],
   "source": [
    "#Handling null values in \"revol_util\" by replacing them with mode of column\n",
    "loan_df1.revol_util=loan_df1.revol_util.fillna(\"0%\")"
   ]
  },
  {
   "cell_type": "code",
   "execution_count": 67,
   "id": "77f82ca3",
   "metadata": {},
   "outputs": [],
   "source": [
    "#Handling Null values in last_pymnt_d by replacing them with mode of column\n",
    "loan_df1.last_pymnt_d=loan_df1.last_pymnt_d.fillna(\"Mar-13\")"
   ]
  },
  {
   "cell_type": "code",
   "execution_count": 68,
   "id": "5cffc8f6",
   "metadata": {},
   "outputs": [],
   "source": [
    "#Handling Null values in pub_rec_bankruptcies by replacing them with mode of column\n",
    "loan_df1.pub_rec_bankruptcies=loan_df1.pub_rec_bankruptcies.fillna(0.0)"
   ]
  },
  {
   "cell_type": "code",
   "execution_count": 69,
   "id": "f0fda306",
   "metadata": {},
   "outputs": [],
   "source": [
    "#Handling Null values in \"last_credit_pull_d\" by replacing them with mode of column\n",
    "loan_df1.last_credit_pull_d=loan_df1.last_credit_pull_d.fillna(\"May-16\")"
   ]
  },
  {
   "cell_type": "markdown",
   "id": "24933edb",
   "metadata": {},
   "source": [
    "# Standardising values"
   ]
  },
  {
   "cell_type": "markdown",
   "id": "5b2bb43b",
   "metadata": {},
   "source": [
    "Standardising emp_length based on business requirements"
   ]
  },
  {
   "cell_type": "code",
   "execution_count": 70,
   "id": "0cf1ba2a",
   "metadata": {},
   "outputs": [],
   "source": [
    "loan_df1.emp_length=loan_df1.emp_length.apply(lambda x:x.strip(\" years\"))\n",
    "loan_df1.emp_length=loan_df1.emp_length.apply(lambda x:\"0\" if x==\"< 1\" else x)\n",
    "loan_df1.emp_length=loan_df1.emp_length.apply(lambda x:\"10\" if x==\"10+\" else x)"
   ]
  },
  {
   "cell_type": "markdown",
   "id": "e3020527",
   "metadata": {},
   "source": [
    "Standardising int_rate for analysis"
   ]
  },
  {
   "cell_type": "code",
   "execution_count": 73,
   "id": "860eb9d6",
   "metadata": {},
   "outputs": [
    {
     "ename": "TypeError",
     "evalue": "'float' object is not subscriptable",
     "output_type": "error",
     "traceback": [
      "\u001b[1;31m---------------------------------------------------------------------------\u001b[0m",
      "\u001b[1;31mTypeError\u001b[0m                                 Traceback (most recent call last)",
      "\u001b[1;32m<ipython-input-73-ad57c3260afa>\u001b[0m in \u001b[0;36m<module>\u001b[1;34m\u001b[0m\n\u001b[0;32m      1\u001b[0m \u001b[1;31m#Categorising the values in int_rate\u001b[0m\u001b[1;33m\u001b[0m\u001b[1;33m\u001b[0m\u001b[1;33m\u001b[0m\u001b[0m\n\u001b[1;32m----> 2\u001b[1;33m \u001b[0mloan_df1\u001b[0m\u001b[1;33m.\u001b[0m\u001b[0mint_rate\u001b[0m\u001b[1;33m=\u001b[0m\u001b[0mloan_df1\u001b[0m\u001b[1;33m.\u001b[0m\u001b[0mint_rate\u001b[0m\u001b[1;33m.\u001b[0m\u001b[0mapply\u001b[0m\u001b[1;33m(\u001b[0m\u001b[1;32mlambda\u001b[0m \u001b[0mx\u001b[0m\u001b[1;33m:\u001b[0m\u001b[0mx\u001b[0m\u001b[1;33m[\u001b[0m\u001b[1;33m:\u001b[0m\u001b[1;33m-\u001b[0m\u001b[1;36m1\u001b[0m\u001b[1;33m]\u001b[0m\u001b[1;33m)\u001b[0m\u001b[1;33m\u001b[0m\u001b[1;33m\u001b[0m\u001b[0m\n\u001b[0m\u001b[0;32m      3\u001b[0m \u001b[1;33m\u001b[0m\u001b[0m\n\u001b[0;32m      4\u001b[0m \u001b[0mloan_df1\u001b[0m\u001b[1;33m.\u001b[0m\u001b[0mint_rate\u001b[0m\u001b[1;33m=\u001b[0m\u001b[0mloan_df1\u001b[0m\u001b[1;33m.\u001b[0m\u001b[0mint_rate\u001b[0m\u001b[1;33m.\u001b[0m\u001b[0mastype\u001b[0m\u001b[1;33m(\u001b[0m\u001b[0mfloat\u001b[0m\u001b[1;33m)\u001b[0m\u001b[1;33m\u001b[0m\u001b[1;33m\u001b[0m\u001b[0m\n\u001b[0;32m      5\u001b[0m \u001b[1;33m\u001b[0m\u001b[0m\n",
      "\u001b[1;32m~\\anaconda3\\lib\\site-packages\\pandas\\core\\series.py\u001b[0m in \u001b[0;36mapply\u001b[1;34m(self, func, convert_dtype, args, **kwds)\u001b[0m\n\u001b[0;32m   4136\u001b[0m             \u001b[1;32melse\u001b[0m\u001b[1;33m:\u001b[0m\u001b[1;33m\u001b[0m\u001b[1;33m\u001b[0m\u001b[0m\n\u001b[0;32m   4137\u001b[0m                 \u001b[0mvalues\u001b[0m \u001b[1;33m=\u001b[0m \u001b[0mself\u001b[0m\u001b[1;33m.\u001b[0m\u001b[0mastype\u001b[0m\u001b[1;33m(\u001b[0m\u001b[0mobject\u001b[0m\u001b[1;33m)\u001b[0m\u001b[1;33m.\u001b[0m\u001b[0m_values\u001b[0m\u001b[1;33m\u001b[0m\u001b[1;33m\u001b[0m\u001b[0m\n\u001b[1;32m-> 4138\u001b[1;33m                 \u001b[0mmapped\u001b[0m \u001b[1;33m=\u001b[0m \u001b[0mlib\u001b[0m\u001b[1;33m.\u001b[0m\u001b[0mmap_infer\u001b[0m\u001b[1;33m(\u001b[0m\u001b[0mvalues\u001b[0m\u001b[1;33m,\u001b[0m \u001b[0mf\u001b[0m\u001b[1;33m,\u001b[0m \u001b[0mconvert\u001b[0m\u001b[1;33m=\u001b[0m\u001b[0mconvert_dtype\u001b[0m\u001b[1;33m)\u001b[0m\u001b[1;33m\u001b[0m\u001b[1;33m\u001b[0m\u001b[0m\n\u001b[0m\u001b[0;32m   4139\u001b[0m \u001b[1;33m\u001b[0m\u001b[0m\n\u001b[0;32m   4140\u001b[0m         \u001b[1;32mif\u001b[0m \u001b[0mlen\u001b[0m\u001b[1;33m(\u001b[0m\u001b[0mmapped\u001b[0m\u001b[1;33m)\u001b[0m \u001b[1;32mand\u001b[0m \u001b[0misinstance\u001b[0m\u001b[1;33m(\u001b[0m\u001b[0mmapped\u001b[0m\u001b[1;33m[\u001b[0m\u001b[1;36m0\u001b[0m\u001b[1;33m]\u001b[0m\u001b[1;33m,\u001b[0m \u001b[0mSeries\u001b[0m\u001b[1;33m)\u001b[0m\u001b[1;33m:\u001b[0m\u001b[1;33m\u001b[0m\u001b[1;33m\u001b[0m\u001b[0m\n",
      "\u001b[1;32mpandas\\_libs\\lib.pyx\u001b[0m in \u001b[0;36mpandas._libs.lib.map_infer\u001b[1;34m()\u001b[0m\n",
      "\u001b[1;32m<ipython-input-73-ad57c3260afa>\u001b[0m in \u001b[0;36m<lambda>\u001b[1;34m(x)\u001b[0m\n\u001b[0;32m      1\u001b[0m \u001b[1;31m#Categorising the values in int_rate\u001b[0m\u001b[1;33m\u001b[0m\u001b[1;33m\u001b[0m\u001b[1;33m\u001b[0m\u001b[0m\n\u001b[1;32m----> 2\u001b[1;33m \u001b[0mloan_df1\u001b[0m\u001b[1;33m.\u001b[0m\u001b[0mint_rate\u001b[0m\u001b[1;33m=\u001b[0m\u001b[0mloan_df1\u001b[0m\u001b[1;33m.\u001b[0m\u001b[0mint_rate\u001b[0m\u001b[1;33m.\u001b[0m\u001b[0mapply\u001b[0m\u001b[1;33m(\u001b[0m\u001b[1;32mlambda\u001b[0m \u001b[0mx\u001b[0m\u001b[1;33m:\u001b[0m\u001b[0mx\u001b[0m\u001b[1;33m[\u001b[0m\u001b[1;33m:\u001b[0m\u001b[1;33m-\u001b[0m\u001b[1;36m1\u001b[0m\u001b[1;33m]\u001b[0m\u001b[1;33m)\u001b[0m\u001b[1;33m\u001b[0m\u001b[1;33m\u001b[0m\u001b[0m\n\u001b[0m\u001b[0;32m      3\u001b[0m \u001b[1;33m\u001b[0m\u001b[0m\n\u001b[0;32m      4\u001b[0m \u001b[0mloan_df1\u001b[0m\u001b[1;33m.\u001b[0m\u001b[0mint_rate\u001b[0m\u001b[1;33m=\u001b[0m\u001b[0mloan_df1\u001b[0m\u001b[1;33m.\u001b[0m\u001b[0mint_rate\u001b[0m\u001b[1;33m.\u001b[0m\u001b[0mastype\u001b[0m\u001b[1;33m(\u001b[0m\u001b[0mfloat\u001b[0m\u001b[1;33m)\u001b[0m\u001b[1;33m\u001b[0m\u001b[1;33m\u001b[0m\u001b[0m\n\u001b[0;32m      5\u001b[0m \u001b[1;33m\u001b[0m\u001b[0m\n",
      "\u001b[1;31mTypeError\u001b[0m: 'float' object is not subscriptable"
     ]
    }
   ],
   "source": [
    "\n",
    "#Categorising the values in int_rate\n",
    "loan_df1.int_rate=loan_df1.int_rate.apply(lambda x:x[:-1])\n",
    "\n",
    "loan_df1.int_rate=loan_df1.int_rate.astype(float)\n",
    "\n",
    "\n",
    "loan_df1.int_rate=loan_df1.int_rate.apply(lambda x:1.0 if  x<=6.0 else x)\n",
    "loan_df1.int_rate=loan_df1.int_rate.apply(lambda x:2.0 if  (x>6.0 and x<=8.0) else x)\n",
    "loan_df1.int_rate=loan_df1.int_rate.apply(lambda x:3.0 if  (x>8.0 and x<=10.0) else x)\n",
    "loan_df1.int_rate=loan_df1.int_rate.apply(lambda x:4.0 if  (x>10.0 and x<=15.0) else x)\n",
    "loan_df1.int_rate=loan_df1.int_rate.apply(lambda x:5.0 if  (x>15.0 and x<=20.0) else x)\n",
    "loan_df1.int_rate=loan_df1.int_rate.apply(lambda x:6.0 if  (x>20.0) else x)\n",
    "\n",
    "#converting int_rate to string \n",
    "loan_df1.int_rate=loan_df1.int_rate.apply(lambda x:\"Range less than 6\" if  x==\"1.0\" else x)\n",
    "loan_df1.int_rate=loan_df1.int_rate.apply(lambda x:\"Range 6 to 8\" if  x==\"2.0\" else x)\n",
    "loan_df1.int_rate=loan_df1.int_rate.apply(lambda x:\"Range 8 to 10\" if  x==\"3.0\" else x)\n",
    "loan_df1.int_rate=loan_df1.int_rate.apply(lambda x:\"Range 10 to 15\" if  x==\"4.0\" else x)\n",
    "loan_df1.int_rate=loan_df1.int_rate.apply(lambda x:\"Range 15 to 20\" if  x==\"5.0\" else x)\n",
    "loan_df1.int_rate=loan_df1.int_rate.apply(lambda x:\"Range Greater than 20\" if  x==\"6.0\" else x)\n",
    "\n",
    "loan_df1.int_rate=loan_df1.int_rate.astype(str)"
   ]
  },
  {
   "cell_type": "markdown",
   "id": "92fe4eed",
   "metadata": {},
   "source": [
    "# ANALYSIS"
   ]
  },
  {
   "cell_type": "code",
   "execution_count": 77,
   "id": "76e6af6c",
   "metadata": {},
   "outputs": [
    {
     "name": "stderr",
     "output_type": "stream",
     "text": [
      "C:\\Users\\sai\\anaconda3\\lib\\site-packages\\seaborn\\_decorators.py:36: FutureWarning: Pass the following variable as a keyword arg: x. From version 0.12, the only valid positional argument will be `data`, and passing other arguments without an explicit keyword will result in an error or misinterpretation.\n",
      "  warnings.warn(\n"
     ]
    },
    {
     "data": {
      "image/png": "[encoded data removed]",
      "text/plain": [
       "<Figure size 432x288 with 1 Axes>"
      ]
     },
     "metadata": {
      "needs_background": "light"
     },
     "output_type": "display_data"
    }
   ],
   "source": [
    "sns.countplot(loan_df1[\"verification_status\"],hue=loan_df1[\"loan_status\"], data=loan_df1)\n",
    "plt.show()"
   ]
  },
  {
   "cell_type": "code",
   "execution_count": 78,
   "id": "7f39f2ce",
   "metadata": {},
   "outputs": [
    {
     "name": "stderr",
     "output_type": "stream",
     "text": [
      "C:\\Users\\sai\\anaconda3\\lib\\site-packages\\seaborn\\_decorators.py:36: FutureWarning: Pass the following variable as a keyword arg: x. From version 0.12, the only valid positional argument will be `data`, and passing other arguments without an explicit keyword will result in an error or misinterpretation.\n",
      "  warnings.warn(\n"
     ]
    },
    {
     "data": {
      "text/plain": [
       "<AxesSubplot:xlabel='term', ylabel='count'>"
      ]
     },
     "execution_count": 78,
     "metadata": {},
     "output_type": "execute_result"
    },
    {
     "data": {
      "image/png": "[encoded data removed]",
      "text/plain": [
       "<Figure size 432x288 with 1 Axes>"
      ]
     },
     "metadata": {
      "needs_background": "light"
     },
     "output_type": "display_data"
    }
   ],
   "source": [
    "sns.countplot(loan_df1[\"term\"],hue=loan_df1[\"loan_status\"], data=loan_df1)"
   ]
  },
  {
   "cell_type": "code",
   "execution_count": 20,
   "id": "191fea86",
   "metadata": {},
   "outputs": [
    {
     "data": {
      "text/plain": [
       "10.99%    913\n",
       "11.49%    790\n",
       "7.51%     787\n",
       "13.49%    749\n",
       "7.88%     725\n",
       "         ... \n",
       "22.94%      1\n",
       "14.67%      1\n",
       "16.71%      1\n",
       "16.15%      1\n",
       "16.96%      1\n",
       "Name: int_rate, Length: 370, dtype: int64"
      ]
     },
     "execution_count": 20,
     "metadata": {},
     "output_type": "execute_result"
    }
   ],
   "source": [
    "loan_df1.int_rate.value_counts()"
   ]
  },
  {
   "cell_type": "code",
   "execution_count": 80,
   "id": "80b4344f",
   "metadata": {},
   "outputs": [
    {
     "name": "stderr",
     "output_type": "stream",
     "text": [
      "C:\\Users\\sai\\anaconda3\\lib\\site-packages\\seaborn\\_decorators.py:36: FutureWarning: Pass the following variable as a keyword arg: x. From version 0.12, the only valid positional argument will be `data`, and passing other arguments without an explicit keyword will result in an error or misinterpretation.\n",
      "  warnings.warn(\n"
     ]
    },
    {
     "data": {
      "text/plain": [
       "<AxesSubplot:xlabel='int_rate', ylabel='count'>"
      ]
     },
     "execution_count": 80,
     "metadata": {},
     "output_type": "execute_result"
    },
    {
     "data": {
      "image/png": "[encoded data removed]",
      "text/plain": [
       "<Figure size 432x288 with 1 Axes>"
      ]
     },
     "metadata": {
      "needs_background": "light"
     },
     "output_type": "display_data"
    }
   ],
   "source": [
    "sns.countplot(loan_df1[\"int_rate\"],hue=loan_df1[\"loan_status\"], data=loan_df1)"
   ]
  },
  {
   "cell_type": "markdown",
   "id": "2eb0ebef",
   "metadata": {},
   "source": [
    "Charged off people are more when int_rate=4.0"
   ]
  },
  {
   "cell_type": "code",
   "execution_count": 84,
   "id": "322f3954",
   "metadata": {},
   "outputs": [
    {
     "name": "stderr",
     "output_type": "stream",
     "text": [
      "C:\\Users\\sai\\anaconda3\\lib\\site-packages\\seaborn\\_decorators.py:36: FutureWarning: Pass the following variable as a keyword arg: x. From version 0.12, the only valid positional argument will be `data`, and passing other arguments without an explicit keyword will result in an error or misinterpretation.\n",
      "  warnings.warn(\n"
     ]
    },
    {
     "data": {
      "text/plain": [
       "<AxesSubplot:xlabel='emp_length', ylabel='count'>"
      ]
     },
     "execution_count": 84,
     "metadata": {},
     "output_type": "execute_result"
    },
    {
     "data": {
      "image/png": "[encoded data removed]",
      "text/plain": [
       "<Figure size 432x288 with 1 Axes>"
      ]
     },
     "metadata": {
      "needs_background": "light"
     },
     "output_type": "display_data"
    }
   ],
   "source": [
    "sns.countplot(loan_df1[\"emp_length\"],hue=loan_df1[\"loan_status\"], data=loan_df1)"
   ]
  },
  {
   "cell_type": "code",
   "execution_count": 92,
   "id": "cac821eb",
   "metadata": {},
   "outputs": [
    {
     "name": "stderr",
     "output_type": "stream",
     "text": [
      "C:\\Users\\sai\\anaconda3\\lib\\site-packages\\seaborn\\_decorators.py:36: FutureWarning: Pass the following variable as a keyword arg: x. From version 0.12, the only valid positional argument will be `data`, and passing other arguments without an explicit keyword will result in an error or misinterpretation.\n",
      "  warnings.warn(\n"
     ]
    },
    {
     "data": {
      "text/plain": [
       "<AxesSubplot:xlabel='purpose', ylabel='count'>"
      ]
     },
     "execution_count": 92,
     "metadata": {},
     "output_type": "execute_result"
    },
    {
     "data": {
      "image/png": "[encoded data removed]",
      "text/plain": [
       "<Figure size 1440x1296 with 1 Axes>"
      ]
     },
     "metadata": {
      "needs_background": "light"
     },
     "output_type": "display_data"
    }
   ],
   "source": [
    "fig_dims = (20, 18)\n",
    "fig, ax = plt.subplots(figsize=fig_dims)\n",
    "sns.countplot(loan_df1[\"purpose\"],hue=loan_df1[\"loan_status\"],ax=ax,data=loan_df1)"
   ]
  },
  {
   "cell_type": "markdown",
   "id": "9f229ef3",
   "metadata": {},
   "source": [
    " We can clearly see that in purpose of debt_consolidation charged off is very high"
   ]
  },
  {
   "cell_type": "code",
   "execution_count": 94,
   "id": "0669ebb7",
   "metadata": {},
   "outputs": [
    {
     "name": "stderr",
     "output_type": "stream",
     "text": [
      "C:\\Users\\sai\\anaconda3\\lib\\site-packages\\seaborn\\_decorators.py:36: FutureWarning: Pass the following variable as a keyword arg: x. From version 0.12, the only valid positional argument will be `data`, and passing other arguments without an explicit keyword will result in an error or misinterpretation.\n",
      "  warnings.warn(\n"
     ]
    },
    {
     "data": {
      "text/plain": [
       "<AxesSubplot:xlabel='home_ownership', ylabel='count'>"
      ]
     },
     "execution_count": 94,
     "metadata": {},
     "output_type": "execute_result"
    },
    {
     "data": {
      "image/png": "[encoded data removed]",
      "text/plain": [
       "<Figure size 432x288 with 1 Axes>"
      ]
     },
     "metadata": {
      "needs_background": "light"
     },
     "output_type": "display_data"
    }
   ],
   "source": [
    "sns.countplot(loan_df1[\"home_ownership\"],hue=loan_df1[\"loan_status\"], data=loan_df1)"
   ]
  },
  {
   "cell_type": "markdown",
   "id": "64b1d9b0",
   "metadata": {},
   "source": [
    "pepole who live in rent home tend to bo chared off more than others"
   ]
  },
  {
   "cell_type": "markdown",
   "id": "260d769d",
   "metadata": {},
   "source": [
    "# Creating a new dataframe by filtering it with loan_status==\"Charged Off\""
   ]
  },
  {
   "cell_type": "code",
   "execution_count": 95,
   "id": "5dc496b8",
   "metadata": {},
   "outputs": [],
   "source": [
    "loan_df_Charged_Off=loan_df1[loan_df1.loan_status==\"Charged Off\"]"
   ]
  },
  {
   "cell_type": "code",
   "execution_count": 96,
   "id": "cf3e224d",
   "metadata": {},
   "outputs": [
    {
     "data": {
      "text/plain": [
       "(5627, 35)"
      ]
     },
     "execution_count": 96,
     "metadata": {},
     "output_type": "execute_result"
    }
   ],
   "source": [
    "loan_df_Charged_Off.shape"
   ]
  },
  {
   "cell_type": "code",
   "execution_count": 97,
   "id": "addb45ce",
   "metadata": {},
   "outputs": [
    {
     "data": {
      "text/plain": [
       "<AxesSubplot:ylabel='purpose'>"
      ]
     },
     "execution_count": 97,
     "metadata": {},
     "output_type": "execute_result"
    },
    {
     "data": {
      "image/png": "[encoded data removed]",
      "text/plain": [
       "<Figure size 432x288 with 1 Axes>"
      ]
     },
     "metadata": {},
     "output_type": "display_data"
    }
   ],
   "source": [
    "loan_df_Charged_Off.purpose.value_counts().plot.pie()"
   ]
  },
  {
   "cell_type": "code",
   "execution_count": 98,
   "id": "c5dea929",
   "metadata": {},
   "outputs": [
    {
     "data": {
      "text/plain": [
       "Index(['loan_amnt', 'funded_amnt', 'funded_amnt_inv', 'term', 'int_rate',\n",
       "       'installment', 'grade', 'sub_grade', 'emp_length', 'home_ownership',\n",
       "       'annual_inc', 'verification_status', 'issue_d', 'loan_status',\n",
       "       'purpose', 'title', 'dti', 'delinq_2yrs', 'earliest_cr_line',\n",
       "       'inq_last_6mths', 'open_acc', 'pub_rec', 'revol_bal', 'revol_util',\n",
       "       'total_acc', 'out_prncp', 'total_pymnt', 'total_rec_prncp',\n",
       "       'total_rec_int', 'total_rec_late_fee', 'recoveries', 'last_pymnt_d',\n",
       "       'last_pymnt_amnt', 'last_credit_pull_d', 'pub_rec_bankruptcies'],\n",
       "      dtype='object')"
      ]
     },
     "execution_count": 98,
     "metadata": {},
     "output_type": "execute_result"
    }
   ],
   "source": [
    "loan_df_Charged_Off.columns"
   ]
  },
  {
   "cell_type": "code",
   "execution_count": null,
   "id": "c8e7ae27",
   "metadata": {},
   "outputs": [],
   "source": [
    "#loan_df1.plot(x=\"loan_status\", y=[\"pub_rec_bankruptcies\",\"verification_status\"], kind=\"bar\")"
   ]
  },
  {
   "cell_type": "code",
   "execution_count": null,
   "id": "4a3a5311",
   "metadata": {},
   "outputs": [],
   "source": [
    "#sns.countplot(loan_df_Charged_Off[\"pub_rec_bankruptcies\"],hue=loan_df_Charged_Off[\"verification_status\"], data=loan_df_Charged_Off)"
   ]
  }
 ],
 "metadata": {
  "kernelspec": {
   "display_name": "Python 3",
   "language": "python",
   "name": "python3"
  },
  "language_info": {
   "codemirror_mode": {
    "name": "ipython",
    "version": 3
   },
   "file_extension": ".py",
   "mimetype": "text/x-python",
   "name": "python",
   "nbconvert_exporter": "python",
   "pygments_lexer": "ipython3",
   "version": "3.8.8"
  }
 },
 "nbformat": 4,
 "nbformat_minor": 5
}
