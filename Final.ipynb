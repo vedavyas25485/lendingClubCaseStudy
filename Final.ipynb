{
 "cells": [
  {
   "cell_type": "markdown",
   "id": "39744c54",
   "metadata": {},
   "source": [
    "# LENDING CLUB CASE STYDY"
   ]
  },
  {
   "cell_type": "code",
   "execution_count": 1,
   "id": "6c4ce713",
   "metadata": {},
   "outputs": [],
   "source": [
    "import pandas as pd\n",
    "import matplotlib.pyplot as plt\n",
    "import seaborn as sns"
   ]
  },
  {
   "cell_type": "code",
   "execution_count": 2,
   "id": "29047e3e",
   "metadata": {},
   "outputs": [
    {
     "name": "stderr",
     "output_type": "stream",
     "text": [
      "C:\\Users\\sai\\anaconda3\\lib\\site-packages\\IPython\\core\\interactiveshell.py:3165: DtypeWarning: Columns (47) have mixed types.Specify dtype option on import or set low_memory=False.\n",
      "  has_raised = await self.run_ast_nodes(code_ast.body, cell_name,\n"
     ]
    }
   ],
   "source": [
    "#Reading csv to data frame\n",
    "loan_df=pd.read_csv(\"loan.csv\",dtype={\"last_pymnt_amnt\": float})"
   ]
  },
  {
   "cell_type": "code",
   "execution_count": 3,
   "id": "3aae2837",
   "metadata": {},
   "outputs": [
    {
     "data": {
      "text/plain": [
       "id                                0\n",
       "member_id                         0\n",
       "loan_amnt                         0\n",
       "funded_amnt                       0\n",
       "funded_amnt_inv                   0\n",
       "                              ...  \n",
       "tax_liens                        39\n",
       "tot_hi_cred_lim               39717\n",
       "total_bal_ex_mort             39717\n",
       "total_bc_limit                39717\n",
       "total_il_high_credit_limit    39717\n",
       "Length: 111, dtype: int64"
      ]
     },
     "execution_count": 3,
     "metadata": {},
     "output_type": "execute_result"
    }
   ],
   "source": [
    "#Checking for nulls in columns\n",
    "loan_df.isna().sum()"
   ]
  },
  {
   "cell_type": "markdown",
   "id": "fa8b5418",
   "metadata": {},
   "source": [
    "# Filtering Data"
   ]
  },
  {
   "cell_type": "code",
   "execution_count": 4,
   "id": "37832d27",
   "metadata": {},
   "outputs": [],
   "source": [
    "#Removing people with loan status as current\n",
    "loan_df=loan_df[loan_df.loan_status !=\"Current\"]"
   ]
  },
  {
   "cell_type": "markdown",
   "id": "f2e5abe1",
   "metadata": {},
   "source": [
    "# Handling Null/Missing values"
   ]
  },
  {
   "cell_type": "code",
   "execution_count": 5,
   "id": "94cf8563",
   "metadata": {},
   "outputs": [],
   "source": [
    "#Dropping all columns with 100% null values\n",
    "loan_df.dropna(how='all', axis=1, inplace=True)"
   ]
  },
  {
   "cell_type": "code",
   "execution_count": 6,
   "id": "d0d796cc",
   "metadata": {},
   "outputs": [
    {
     "name": "stdout",
     "output_type": "stream",
     "text": [
      "56\n"
     ]
    }
   ],
   "source": [
    "print(len(loan_df.columns))"
   ]
  },
  {
   "cell_type": "markdown",
   "id": "1816c9c2",
   "metadata": {},
   "source": [
    " Out of 111 columns 55 columns are null so removed them"
   ]
  },
  {
   "cell_type": "code",
   "execution_count": 7,
   "id": "c0adb7c1",
   "metadata": {},
   "outputs": [],
   "source": [
    "# Selecting columns based on business requirements\n",
    "loan_df1=loan_df[[\"loan_amnt\",\"funded_amnt\",\"funded_amnt_inv\",\"term\",\"int_rate\",\"installment\",\"grade\",\"sub_grade\",\"emp_length\",\"home_ownership\",\"annual_inc\",\"verification_status\",\"issue_d\",\"loan_status\",\"purpose\",\"dti\",\"delinq_2yrs\",\"earliest_cr_line\",\"inq_last_6mths\",\"open_acc\",\"pub_rec\",\"revol_bal\",\"revol_util\",\"total_acc\",\"out_prncp\",\"total_pymnt\",\"total_rec_prncp\",\"total_rec_int\",\"total_rec_late_fee\",\"recoveries\",\"last_pymnt_d\",\"last_pymnt_amnt\",\"last_credit_pull_d\",\"pub_rec_bankruptcies\"]]"
   ]
  },
  {
   "cell_type": "code",
   "execution_count": 8,
   "id": "356b46bf",
   "metadata": {},
   "outputs": [
    {
     "name": "stdout",
     "output_type": "stream",
     "text": [
      "34\n"
     ]
    }
   ],
   "source": [
    "print(len(loan_df1.columns))"
   ]
  },
  {
   "cell_type": "markdown",
   "id": "8d6ab2ba",
   "metadata": {},
   "source": [
    " Now we are left with 34 columns"
   ]
  },
  {
   "cell_type": "code",
   "execution_count": 9,
   "id": "1a67167b",
   "metadata": {},
   "outputs": [
    {
     "data": {
      "text/plain": [
       "loan_amnt                  0\n",
       "funded_amnt                0\n",
       "funded_amnt_inv            0\n",
       "term                       0\n",
       "int_rate                   0\n",
       "installment                0\n",
       "grade                      0\n",
       "sub_grade                  0\n",
       "emp_length              1033\n",
       "home_ownership             0\n",
       "annual_inc                 0\n",
       "verification_status        0\n",
       "issue_d                    0\n",
       "loan_status                0\n",
       "purpose                    0\n",
       "dti                        0\n",
       "delinq_2yrs                0\n",
       "earliest_cr_line           0\n",
       "inq_last_6mths             0\n",
       "open_acc                   0\n",
       "pub_rec                    0\n",
       "revol_bal                  0\n",
       "revol_util                50\n",
       "total_acc                  0\n",
       "out_prncp                  0\n",
       "total_pymnt                0\n",
       "total_rec_prncp            0\n",
       "total_rec_int              0\n",
       "total_rec_late_fee         0\n",
       "recoveries                 0\n",
       "last_pymnt_d              71\n",
       "last_pymnt_amnt            0\n",
       "last_credit_pull_d         2\n",
       "pub_rec_bankruptcies     697\n",
       "dtype: int64"
      ]
     },
     "execution_count": 9,
     "metadata": {},
     "output_type": "execute_result"
    }
   ],
   "source": [
    "loan_df1.isna().sum()"
   ]
  },
  {
   "cell_type": "code",
   "execution_count": 10,
   "id": "797536c5",
   "metadata": {},
   "outputs": [
    {
     "data": {
      "text/plain": [
       "10+ years    8488\n",
       "< 1 year     4508\n",
       "2 years      4291\n",
       "3 years      4012\n",
       "4 years      3342\n",
       "5 years      3194\n",
       "1 year       3169\n",
       "6 years      2168\n",
       "7 years      1711\n",
       "8 years      1435\n",
       "9 years      1226\n",
       "Name: emp_length, dtype: int64"
      ]
     },
     "execution_count": 10,
     "metadata": {},
     "output_type": "execute_result"
    }
   ],
   "source": [
    "loan_df1.emp_length.value_counts()"
   ]
  },
  {
   "cell_type": "code",
   "execution_count": 11,
   "id": "2ee596c7",
   "metadata": {},
   "outputs": [
    {
     "name": "stderr",
     "output_type": "stream",
     "text": [
      "C:\\Users\\sai\\anaconda3\\lib\\site-packages\\pandas\\core\\generic.py:5494: SettingWithCopyWarning: \n",
      "A value is trying to be set on a copy of a slice from a DataFrame.\n",
      "Try using .loc[row_indexer,col_indexer] = value instead\n",
      "\n",
      "See the caveats in the documentation: https://pandas.pydata.org/pandas-docs/stable/user_guide/indexing.html#returning-a-view-versus-a-copy\n",
      "  self[name] = value\n"
     ]
    }
   ],
   "source": [
    "loan_df1.emp_length=loan_df1.emp_length.fillna(\"10+ years\")"
   ]
  },
  {
   "cell_type": "code",
   "execution_count": 12,
   "id": "6a7eb8a4",
   "metadata": {},
   "outputs": [
    {
     "data": {
      "text/plain": [
       "10+ years    9521\n",
       "< 1 year     4508\n",
       "2 years      4291\n",
       "3 years      4012\n",
       "4 years      3342\n",
       "5 years      3194\n",
       "1 year       3169\n",
       "6 years      2168\n",
       "7 years      1711\n",
       "8 years      1435\n",
       "9 years      1226\n",
       "Name: emp_length, dtype: int64"
      ]
     },
     "execution_count": 12,
     "metadata": {},
     "output_type": "execute_result"
    }
   ],
   "source": [
    "loan_df1.emp_length.value_counts()"
   ]
  },
  {
   "cell_type": "code",
   "execution_count": 13,
   "id": "a282f4c3",
   "metadata": {},
   "outputs": [
    {
     "data": {
      "text/plain": [
       "loan_amnt                 0\n",
       "funded_amnt               0\n",
       "funded_amnt_inv           0\n",
       "term                      0\n",
       "int_rate                  0\n",
       "installment               0\n",
       "grade                     0\n",
       "sub_grade                 0\n",
       "emp_length                0\n",
       "home_ownership            0\n",
       "annual_inc                0\n",
       "verification_status       0\n",
       "issue_d                   0\n",
       "loan_status               0\n",
       "purpose                   0\n",
       "dti                       0\n",
       "delinq_2yrs               0\n",
       "earliest_cr_line          0\n",
       "inq_last_6mths            0\n",
       "open_acc                  0\n",
       "pub_rec                   0\n",
       "revol_bal                 0\n",
       "revol_util               50\n",
       "total_acc                 0\n",
       "out_prncp                 0\n",
       "total_pymnt               0\n",
       "total_rec_prncp           0\n",
       "total_rec_int             0\n",
       "total_rec_late_fee        0\n",
       "recoveries                0\n",
       "last_pymnt_d             71\n",
       "last_pymnt_amnt           0\n",
       "last_credit_pull_d        2\n",
       "pub_rec_bankruptcies    697\n",
       "dtype: int64"
      ]
     },
     "execution_count": 13,
     "metadata": {},
     "output_type": "execute_result"
    }
   ],
   "source": [
    "loan_df1.isna().sum()"
   ]
  },
  {
   "cell_type": "code",
   "execution_count": 14,
   "id": "ff2d1fee",
   "metadata": {},
   "outputs": [],
   "source": [
    "#Handling null values in \"revol_util\" by replacing them with mode of column\n",
    "loan_df1.revol_util=loan_df1.revol_util.fillna(\"0%\")"
   ]
  },
  {
   "cell_type": "code",
   "execution_count": 15,
   "id": "77f82ca3",
   "metadata": {},
   "outputs": [],
   "source": [
    "#Handling Null values in last_pymnt_d by replacing them with mode of column\n",
    "loan_df1.last_pymnt_d=loan_df1.last_pymnt_d.fillna(\"Mar-13\")"
   ]
  },
  {
   "cell_type": "code",
   "execution_count": 16,
   "id": "5cffc8f6",
   "metadata": {},
   "outputs": [],
   "source": [
    "#Handling Null values in pub_rec_bankruptcies by replacing them with mode of column\n",
    "loan_df1.pub_rec_bankruptcies=loan_df1.pub_rec_bankruptcies.fillna(0.0)"
   ]
  },
  {
   "cell_type": "code",
   "execution_count": 17,
   "id": "f0fda306",
   "metadata": {},
   "outputs": [],
   "source": [
    "#Handling Null values in \"last_credit_pull_d\" by replacing them with mode of column\n",
    "loan_df1.last_credit_pull_d=loan_df1.last_credit_pull_d.fillna(\"May-16\")"
   ]
  },
  {
   "cell_type": "markdown",
   "id": "52b56956",
   "metadata": {},
   "source": [
    "# ANALYSIS"
   ]
  },
  {
   "cell_type": "code",
   "execution_count": 18,
   "id": "ed3984e5",
   "metadata": {},
   "outputs": [
    {
     "name": "stderr",
     "output_type": "stream",
     "text": [
      "C:\\Users\\sai\\anaconda3\\lib\\site-packages\\seaborn\\_decorators.py:36: FutureWarning: Pass the following variable as a keyword arg: x. From version 0.12, the only valid positional argument will be `data`, and passing other arguments without an explicit keyword will result in an error or misinterpretation.\n",
      "  warnings.warn(\n"
     ]
    },
    {
     "data": {
      "text/plain": [
       "<AxesSubplot:xlabel='verification_status', ylabel='count'>"
      ]
     },
     "execution_count": 18,
     "metadata": {},
     "output_type": "execute_result"
    },
    {
     "data": {
      "image/png": "[encoded data removed]",
      "text/plain": [
       "<Figure size 432x288 with 1 Axes>"
      ]
     },
     "metadata": {
      "needs_background": "light"
     },
     "output_type": "display_data"
    }
   ],
   "source": [
    "sns.countplot(loan_df1[\"verification_status\"],hue=loan_df1[\"loan_status\"], data=loan_df1)"
   ]
  },
  {
   "cell_type": "code",
   "execution_count": 19,
   "id": "0cfb644a",
   "metadata": {},
   "outputs": [
    {
     "name": "stderr",
     "output_type": "stream",
     "text": [
      "C:\\Users\\sai\\anaconda3\\lib\\site-packages\\seaborn\\_decorators.py:36: FutureWarning: Pass the following variable as a keyword arg: x. From version 0.12, the only valid positional argument will be `data`, and passing other arguments without an explicit keyword will result in an error or misinterpretation.\n",
      "  warnings.warn(\n"
     ]
    },
    {
     "data": {
      "text/plain": [
       "<AxesSubplot:xlabel='term', ylabel='count'>"
      ]
     },
     "execution_count": 19,
     "metadata": {},
     "output_type": "execute_result"
    },
    {
     "data": {
      "image/png": "[encoded data removed]",
      "text/plain": [
       "<Figure size 432x288 with 1 Axes>"
      ]
     },
     "metadata": {
      "needs_background": "light"
     },
     "output_type": "display_data"
    }
   ],
   "source": [
    "sns.countplot(loan_df1[\"term\"],hue=loan_df1[\"loan_status\"], data=loan_df1)"
   ]
  },
  {
   "cell_type": "code",
   "execution_count": 20,
   "id": "c419e76a",
   "metadata": {},
   "outputs": [
    {
     "data": {
      "text/plain": [
       "10.99%    913\n",
       "11.49%    790\n",
       "7.51%     787\n",
       "13.49%    749\n",
       "7.88%     725\n",
       "         ... \n",
       "17.34%      1\n",
       "18.72%      1\n",
       "17.54%      1\n",
       "18.36%      1\n",
       "21.48%      1\n",
       "Name: int_rate, Length: 370, dtype: int64"
      ]
     },
     "execution_count": 20,
     "metadata": {},
     "output_type": "execute_result"
    }
   ],
   "source": [
    "loan_df1.int_rate.value_counts()"
   ]
  },
  {
   "cell_type": "code",
   "execution_count": 21,
   "id": "bb106043",
   "metadata": {},
   "outputs": [
    {
     "data": {
      "text/plain": [
       "loan_amnt                 int64\n",
       "funded_amnt               int64\n",
       "funded_amnt_inv         float64\n",
       "term                     object\n",
       "int_rate                 object\n",
       "installment             float64\n",
       "grade                    object\n",
       "sub_grade                object\n",
       "emp_length               object\n",
       "home_ownership           object\n",
       "annual_inc              float64\n",
       "verification_status      object\n",
       "issue_d                  object\n",
       "loan_status              object\n",
       "purpose                  object\n",
       "dti                     float64\n",
       "delinq_2yrs               int64\n",
       "earliest_cr_line         object\n",
       "inq_last_6mths            int64\n",
       "open_acc                  int64\n",
       "pub_rec                   int64\n",
       "revol_bal                 int64\n",
       "revol_util               object\n",
       "total_acc                 int64\n",
       "out_prncp               float64\n",
       "total_pymnt             float64\n",
       "total_rec_prncp         float64\n",
       "total_rec_int           float64\n",
       "total_rec_late_fee      float64\n",
       "recoveries              float64\n",
       "last_pymnt_d             object\n",
       "last_pymnt_amnt         float64\n",
       "last_credit_pull_d       object\n",
       "pub_rec_bankruptcies    float64\n",
       "dtype: object"
      ]
     },
     "execution_count": 21,
     "metadata": {},
     "output_type": "execute_result"
    }
   ],
   "source": [
    "loan_df1.dtypes"
   ]
  },
  {
   "cell_type": "code",
   "execution_count": 22,
   "id": "8fe034aa",
   "metadata": {},
   "outputs": [
    {
     "name": "stderr",
     "output_type": "stream",
     "text": [
      "C:\\Users\\sai\\anaconda3\\lib\\site-packages\\pandas\\core\\generic.py:5494: SettingWithCopyWarning: \n",
      "A value is trying to be set on a copy of a slice from a DataFrame.\n",
      "Try using .loc[row_indexer,col_indexer] = value instead\n",
      "\n",
      "See the caveats in the documentation: https://pandas.pydata.org/pandas-docs/stable/user_guide/indexing.html#returning-a-view-versus-a-copy\n",
      "  self[name] = value\n"
     ]
    }
   ],
   "source": [
    "loan_df1.int_rate=loan_df1.int_rate.astype(str)"
   ]
  },
  {
   "cell_type": "code",
   "execution_count": 23,
   "id": "a082b53d",
   "metadata": {},
   "outputs": [],
   "source": [
    "loan_df1.int_rate=loan_df1.int_rate.apply(lambda x:x[:-1])"
   ]
  },
  {
   "cell_type": "code",
   "execution_count": 24,
   "id": "b2b069d9",
   "metadata": {},
   "outputs": [
    {
     "data": {
      "text/plain": [
       "loan_amnt                 int64\n",
       "funded_amnt               int64\n",
       "funded_amnt_inv         float64\n",
       "term                     object\n",
       "int_rate                 object\n",
       "installment             float64\n",
       "grade                    object\n",
       "sub_grade                object\n",
       "emp_length               object\n",
       "home_ownership           object\n",
       "annual_inc              float64\n",
       "verification_status      object\n",
       "issue_d                  object\n",
       "loan_status              object\n",
       "purpose                  object\n",
       "dti                     float64\n",
       "delinq_2yrs               int64\n",
       "earliest_cr_line         object\n",
       "inq_last_6mths            int64\n",
       "open_acc                  int64\n",
       "pub_rec                   int64\n",
       "revol_bal                 int64\n",
       "revol_util               object\n",
       "total_acc                 int64\n",
       "out_prncp               float64\n",
       "total_pymnt             float64\n",
       "total_rec_prncp         float64\n",
       "total_rec_int           float64\n",
       "total_rec_late_fee      float64\n",
       "recoveries              float64\n",
       "last_pymnt_d             object\n",
       "last_pymnt_amnt         float64\n",
       "last_credit_pull_d       object\n",
       "pub_rec_bankruptcies    float64\n",
       "dtype: object"
      ]
     },
     "execution_count": 24,
     "metadata": {},
     "output_type": "execute_result"
    }
   ],
   "source": [
    "loan_df1.dtypes"
   ]
  },
  {
   "cell_type": "code",
   "execution_count": 25,
   "id": "1dc21f07",
   "metadata": {},
   "outputs": [],
   "source": [
    "loan_df1.int_rate=loan_df1.int_rate.astype(float)"
   ]
  },
  {
   "cell_type": "code",
   "execution_count": 26,
   "id": "4948cb06",
   "metadata": {},
   "outputs": [],
   "source": [
    "loan_df1.int_rate=loan_df1.int_rate.apply(lambda x:1.0 if  x<=6.0 else x)"
   ]
  },
  {
   "cell_type": "code",
   "execution_count": 27,
   "id": "7065a076",
   "metadata": {},
   "outputs": [
    {
     "data": {
      "text/plain": [
       "1.00     1346\n",
       "10.99     913\n",
       "11.49     790\n",
       "7.51      787\n",
       "13.49     749\n",
       "         ... \n",
       "16.71       1\n",
       "18.36       1\n",
       "16.20       1\n",
       "20.52       1\n",
       "22.64       1\n",
       "Name: int_rate, Length: 367, dtype: int64"
      ]
     },
     "execution_count": 27,
     "metadata": {},
     "output_type": "execute_result"
    }
   ],
   "source": [
    "loan_df1.int_rate.value_counts()"
   ]
  },
  {
   "cell_type": "code",
   "execution_count": 28,
   "id": "a20412fc",
   "metadata": {},
   "outputs": [],
   "source": [
    "loan_df1.int_rate=loan_df1.int_rate.apply(lambda x:2.0 if  (x>6.0 and x<=8.0) else x)"
   ]
  },
  {
   "cell_type": "code",
   "execution_count": 29,
   "id": "49bb93ed",
   "metadata": {},
   "outputs": [],
   "source": [
    "loan_df1.int_rate=loan_df1.int_rate.apply(lambda x:3.0 if  (x>8.0 and x<=10.0) else x)"
   ]
  },
  {
   "cell_type": "code",
   "execution_count": 30,
   "id": "cf716184",
   "metadata": {},
   "outputs": [],
   "source": [
    "loan_df1.int_rate=loan_df1.int_rate.apply(lambda x:4.0 if  (x>10.0 and x<=15.0) else x)"
   ]
  },
  {
   "cell_type": "code",
   "execution_count": 31,
   "id": "bdbd0c9e",
   "metadata": {},
   "outputs": [],
   "source": [
    "loan_df1.int_rate=loan_df1.int_rate.apply(lambda x:5.0 if  (x>15.0 and x<=20.0) else x)"
   ]
  },
  {
   "cell_type": "code",
   "execution_count": 32,
   "id": "4d64904c",
   "metadata": {},
   "outputs": [],
   "source": [
    "loan_df1.int_rate=loan_df1.int_rate.apply(lambda x:6.0 if  (x>20.0) else x)"
   ]
  },
  {
   "cell_type": "code",
   "execution_count": 33,
   "id": "351e2fd0",
   "metadata": {},
   "outputs": [
    {
     "data": {
      "text/plain": [
       "4.0    18265\n",
       "5.0     7226\n",
       "2.0     6872\n",
       "3.0     4098\n",
       "1.0     1346\n",
       "6.0      770\n",
       "Name: int_rate, dtype: int64"
      ]
     },
     "execution_count": 33,
     "metadata": {},
     "output_type": "execute_result"
    }
   ],
   "source": [
    "loan_df1.int_rate.value_counts()"
   ]
  },
  {
   "cell_type": "code",
   "execution_count": 34,
   "id": "0ae525c7",
   "metadata": {},
   "outputs": [],
   "source": [
    "loan_df1.int_rate=loan_df1.int_rate.astype(str)"
   ]
  },
  {
   "cell_type": "code",
   "execution_count": 35,
   "id": "750b7ab4",
   "metadata": {},
   "outputs": [],
   "source": [
    "loan_df1.int_rate=loan_df1.int_rate.apply(lambda x:\"Range less than 6\" if  x==\"1.0\" else x)\n",
    "loan_df1.int_rate=loan_df1.int_rate.apply(lambda x:\"Range 6 to 8\" if  x==\"2.0\" else x)\n",
    "loan_df1.int_rate=loan_df1.int_rate.apply(lambda x:\"Range 8 to 10\" if  x==\"3.0\" else x)\n",
    "loan_df1.int_rate=loan_df1.int_rate.apply(lambda x:\"Range 10 to 15\" if  x==\"4.0\" else x)\n",
    "loan_df1.int_rate=loan_df1.int_rate.apply(lambda x:\"Range 15 to 20\" if  x==\"5.0\" else x)\n",
    "loan_df1.int_rate=loan_df1.int_rate.apply(lambda x:\"Range Greater than 20\" if  x==\"6.0\" else x)\n",
    "\n",
    "\n"
   ]
  },
  {
   "cell_type": "code",
   "execution_count": 36,
   "id": "de4938b5",
   "metadata": {},
   "outputs": [
    {
     "data": {
      "text/plain": [
       "Range 10 to 15           18265\n",
       "Range 15 to 20            7226\n",
       "Range 6 to 8              6872\n",
       "Range 8 to 10             4098\n",
       "Range less than 6         1346\n",
       "Range Greater than 20      770\n",
       "Name: int_rate, dtype: int64"
      ]
     },
     "execution_count": 36,
     "metadata": {},
     "output_type": "execute_result"
    }
   ],
   "source": [
    "loan_df1.int_rate.value_counts()"
   ]
  },
  {
   "cell_type": "code",
   "execution_count": 37,
   "id": "c55fcc51",
   "metadata": {},
   "outputs": [
    {
     "name": "stderr",
     "output_type": "stream",
     "text": [
      "C:\\Users\\sai\\anaconda3\\lib\\site-packages\\seaborn\\_decorators.py:36: FutureWarning: Pass the following variable as a keyword arg: x. From version 0.12, the only valid positional argument will be `data`, and passing other arguments without an explicit keyword will result in an error or misinterpretation.\n",
      "  warnings.warn(\n"
     ]
    },
    {
     "data": {
      "text/plain": [
       "<AxesSubplot:xlabel='int_rate', ylabel='count'>"
      ]
     },
     "execution_count": 37,
     "metadata": {},
     "output_type": "execute_result"
    },
    {
     "data": {
      "image/png": "[encoded data removed]",
      "text/plain": [
       "<Figure size 432x288 with 1 Axes>"
      ]
     },
     "metadata": {
      "needs_background": "light"
     },
     "output_type": "display_data"
    }
   ],
   "source": [
    "sns.countplot(loan_df1[\"int_rate\"],hue=loan_df1[\"loan_status\"], data=loan_df1)"
   ]
  },
  {
   "cell_type": "code",
   "execution_count": 38,
   "id": "9f40ae16",
   "metadata": {},
   "outputs": [
    {
     "data": {
      "text/plain": [
       "loan_amnt                 int64\n",
       "funded_amnt               int64\n",
       "funded_amnt_inv         float64\n",
       "term                     object\n",
       "int_rate                 object\n",
       "installment             float64\n",
       "grade                    object\n",
       "sub_grade                object\n",
       "emp_length               object\n",
       "home_ownership           object\n",
       "annual_inc              float64\n",
       "verification_status      object\n",
       "issue_d                  object\n",
       "loan_status              object\n",
       "purpose                  object\n",
       "dti                     float64\n",
       "delinq_2yrs               int64\n",
       "earliest_cr_line         object\n",
       "inq_last_6mths            int64\n",
       "open_acc                  int64\n",
       "pub_rec                   int64\n",
       "revol_bal                 int64\n",
       "revol_util               object\n",
       "total_acc                 int64\n",
       "out_prncp               float64\n",
       "total_pymnt             float64\n",
       "total_rec_prncp         float64\n",
       "total_rec_int           float64\n",
       "total_rec_late_fee      float64\n",
       "recoveries              float64\n",
       "last_pymnt_d             object\n",
       "last_pymnt_amnt         float64\n",
       "last_credit_pull_d       object\n",
       "pub_rec_bankruptcies    float64\n",
       "dtype: object"
      ]
     },
     "execution_count": 38,
     "metadata": {},
     "output_type": "execute_result"
    }
   ],
   "source": [
    "loan_df1.dtypes"
   ]
  },
  {
   "cell_type": "code",
   "execution_count": 39,
   "id": "5c5c33c5",
   "metadata": {},
   "outputs": [
    {
     "name": "stderr",
     "output_type": "stream",
     "text": [
      "C:\\Users\\sai\\anaconda3\\lib\\site-packages\\seaborn\\_decorators.py:36: FutureWarning: Pass the following variable as a keyword arg: x. From version 0.12, the only valid positional argument will be `data`, and passing other arguments without an explicit keyword will result in an error or misinterpretation.\n",
      "  warnings.warn(\n"
     ]
    },
    {
     "data": {
      "text/plain": [
       "<AxesSubplot:xlabel='emp_length', ylabel='count'>"
      ]
     },
     "execution_count": 39,
     "metadata": {},
     "output_type": "execute_result"
    },
    {
     "data": {
      "image/png": "[encoded data removed]",
      "text/plain": [
       "<Figure size 432x288 with 1 Axes>"
      ]
     },
     "metadata": {
      "needs_background": "light"
     },
     "output_type": "display_data"
    }
   ],
   "source": [
    "sns.countplot(loan_df1[\"emp_length\"],hue=loan_df1[\"loan_status\"], data=loan_df1)"
   ]
  },
  {
   "cell_type": "code",
   "execution_count": 40,
   "id": "6602c123",
   "metadata": {},
   "outputs": [
    {
     "name": "stderr",
     "output_type": "stream",
     "text": [
      "C:\\Users\\sai\\anaconda3\\lib\\site-packages\\seaborn\\_decorators.py:36: FutureWarning: Pass the following variable as a keyword arg: x. From version 0.12, the only valid positional argument will be `data`, and passing other arguments without an explicit keyword will result in an error or misinterpretation.\n",
      "  warnings.warn(\n"
     ]
    },
    {
     "data": {
      "text/plain": [
       "<AxesSubplot:xlabel='purpose', ylabel='count'>"
      ]
     },
     "execution_count": 40,
     "metadata": {},
     "output_type": "execute_result"
    },
    {
     "data": {
      "image/png": "[encoded data removed]",
      "text/plain": [
       "<Figure size 432x288 with 1 Axes>"
      ]
     },
     "metadata": {
      "needs_background": "light"
     },
     "output_type": "display_data"
    }
   ],
   "source": [
    "sns.countplot(loan_df1[\"purpose\"],hue=loan_df1[\"loan_status\"], data=loan_df1)"
   ]
  },
  {
   "cell_type": "code",
   "execution_count": 41,
   "id": "e091a13b",
   "metadata": {},
   "outputs": [
    {
     "name": "stderr",
     "output_type": "stream",
     "text": [
      "C:\\Users\\sai\\anaconda3\\lib\\site-packages\\seaborn\\_decorators.py:36: FutureWarning: Pass the following variable as a keyword arg: x. From version 0.12, the only valid positional argument will be `data`, and passing other arguments without an explicit keyword will result in an error or misinterpretation.\n",
      "  warnings.warn(\n"
     ]
    },
    {
     "data": {
      "text/plain": [
       "<AxesSubplot:xlabel='home_ownership', ylabel='count'>"
      ]
     },
     "execution_count": 41,
     "metadata": {},
     "output_type": "execute_result"
    },
    {
     "data": {
      "image/png": "[encoded data removed]",
      "text/plain": [
       "<Figure size 432x288 with 1 Axes>"
      ]
     },
     "metadata": {
      "needs_background": "light"
     },
     "output_type": "display_data"
    }
   ],
   "source": [
    "sns.countplot(loan_df1[\"home_ownership\"],hue=loan_df1[\"loan_status\"], data=loan_df1)"
   ]
  },
  {
   "cell_type": "code",
   "execution_count": 42,
   "id": "a89ae2c0",
   "metadata": {},
   "outputs": [
    {
     "data": {
      "text/plain": [
       "Index(['loan_amnt', 'funded_amnt', 'funded_amnt_inv', 'term', 'int_rate',\n",
       "       'installment', 'grade', 'sub_grade', 'emp_length', 'home_ownership',\n",
       "       'annual_inc', 'verification_status', 'issue_d', 'loan_status',\n",
       "       'purpose', 'dti', 'delinq_2yrs', 'earliest_cr_line', 'inq_last_6mths',\n",
       "       'open_acc', 'pub_rec', 'revol_bal', 'revol_util', 'total_acc',\n",
       "       'out_prncp', 'total_pymnt', 'total_rec_prncp', 'total_rec_int',\n",
       "       'total_rec_late_fee', 'recoveries', 'last_pymnt_d', 'last_pymnt_amnt',\n",
       "       'last_credit_pull_d', 'pub_rec_bankruptcies'],\n",
       "      dtype='object')"
      ]
     },
     "execution_count": 42,
     "metadata": {},
     "output_type": "execute_result"
    }
   ],
   "source": [
    "loan_df1.columns"
   ]
  },
  {
   "cell_type": "code",
   "execution_count": 43,
   "id": "e26a9a50",
   "metadata": {},
   "outputs": [],
   "source": [
    "#loan_df1.plot(x=\"loan_status\", y=[\"annual_inc\",\"home_ownership\"], kind=\"bar\")"
   ]
  },
  {
   "cell_type": "code",
   "execution_count": 44,
   "id": "77a24933",
   "metadata": {},
   "outputs": [],
   "source": [
    "#loan_df1.annual_inc.value_counts().plot(kind=\"bar\")"
   ]
  },
  {
   "cell_type": "code",
   "execution_count": 45,
   "id": "e1015afe",
   "metadata": {},
   "outputs": [
    {
     "data": {
      "text/plain": [
       "Index(['loan_amnt', 'funded_amnt', 'funded_amnt_inv', 'term', 'int_rate',\n",
       "       'installment', 'grade', 'sub_grade', 'emp_length', 'home_ownership',\n",
       "       'annual_inc', 'verification_status', 'issue_d', 'loan_status',\n",
       "       'purpose', 'dti', 'delinq_2yrs', 'earliest_cr_line', 'inq_last_6mths',\n",
       "       'open_acc', 'pub_rec', 'revol_bal', 'revol_util', 'total_acc',\n",
       "       'out_prncp', 'total_pymnt', 'total_rec_prncp', 'total_rec_int',\n",
       "       'total_rec_late_fee', 'recoveries', 'last_pymnt_d', 'last_pymnt_amnt',\n",
       "       'last_credit_pull_d', 'pub_rec_bankruptcies'],\n",
       "      dtype='object')"
      ]
     },
     "execution_count": 45,
     "metadata": {},
     "output_type": "execute_result"
    }
   ],
   "source": [
    "loan_df1.columns"
   ]
  },
  {
   "cell_type": "code",
   "execution_count": null,
   "id": "0c5a48eb",
   "metadata": {},
   "outputs": [
    {
     "data": {
      "text/plain": [
       "<AxesSubplot:xlabel='loan_status'>"
      ]
     },
     "execution_count": 48,
     "metadata": {},
     "output_type": "execute_result"
    }
   ],
   "source": [
    "loan_df1.plot(x=\"loan_status\", y=[\"pub_rec_bankruptcies\",\"verification_status\"], kind=\"bar\")"
   ]
  },
  {
   "cell_type": "code",
   "execution_count": 47,
   "id": "fe36b193",
   "metadata": {},
   "outputs": [
    {
     "data": {
      "text/plain": [
       "0.0    36935\n",
       "1.0     1637\n",
       "2.0        5\n",
       "Name: pub_rec_bankruptcies, dtype: int64"
      ]
     },
     "execution_count": 47,
     "metadata": {},
     "output_type": "execute_result"
    }
   ],
   "source": [
    "loan_df1.pub_rec_bankruptcies.value_counts()"
   ]
  },
  {
   "cell_type": "code",
   "execution_count": null,
   "id": "0abdc39a",
   "metadata": {},
   "outputs": [],
   "source": []
  },
  {
   "cell_type": "code",
   "execution_count": null,
   "id": "3678a52f",
   "metadata": {},
   "outputs": [],
   "source": []
  }
 ],
 "metadata": {
  "kernelspec": {
   "display_name": "Python 3",
   "language": "python",
   "name": "python3"
  },
  "language_info": {
   "codemirror_mode": {
    "name": "ipython",
    "version": 3
   },
   "file_extension": ".py",
   "mimetype": "text/x-python",
   "name": "python",
   "nbconvert_exporter": "python",
   "pygments_lexer": "ipython3",
   "version": "3.8.8"
  }
 },
 "nbformat": 4,
 "nbformat_minor": 5
}
